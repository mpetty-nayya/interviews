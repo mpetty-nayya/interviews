{
 "cells": [
  {
   "cell_type": "markdown",
   "metadata": {},
   "source": [
    "## Feature Engineering\n",
    "\n",
    "\n",
    "In this assignment, we'll evaluate how you think about preprocessing data for a tabular classification problem. The idea is to wrangle and normalise the dataset below, so that we can train and evaluate our model. Here is a description of the fields:\n",
    "\n",
    "- **family**: who is covered? (Just Me, Me and my Spouse', Me and my kids, Me, Spouse, and Kids)\n",
    "- **financial_risk_preference**: (1) Prefer Savings to Prefer Protection (5) \n",
    "- **exercises**: frequency of exercise (I exercise everyday, I exercise 3x a week, I don't exercise)\n",
    "- **preexisting_conditions**: conditions that require frequent doctor visits (cancer, high blood pressure, etc)\n",
    "- **qle**: qualifying life event that might incur costs (baby, medical procedure, married, moving)\n",
    "- **savings**: if they had to pay $3000, how would they pay for this? (borrow money, have savings, HSA)\n",
    "- **prescription_costs**: costs of annual prescription \n",
    "- **pcp_costs**: costs of primary care costs\n",
    "- **specialist_costs**: annual cost of speciality care costs\n",
    "\n",
    "\n",
    "The output should have this dataset split into **X_train**, **X_test**, **y_train**, **y_test** that will be inputted into RandomForestClassifier. "
   ]
  },
  {
   "cell_type": "code",
   "execution_count": null,
   "metadata": {},
   "outputs": [],
   "source": [
    "import pandas as pd\n",
    "from random import shuffle\n",
    "\n",
    "df = pd.read_csv(\"data/surveys.csv\")\n",
    "df.sample(5)"
   ]
  },
  {
   "cell_type": "markdown",
   "metadata": {},
   "source": [
    "#### 1) Prepare dataset for RandomForest"
   ]
  },
  {
   "cell_type": "code",
   "execution_count": null,
   "metadata": {},
   "outputs": [],
   "source": [
    "features = [\n",
    "    \"age\",\n",
    "    \"salary\",\n",
    "    \"family\",\n",
    "    \"household_salaries\",\n",
    "    \"savings\",\n",
    "    \"financial_risk_preference\",\n",
    "    \"preexisting_conditions\",\n",
    "    \"qle\",\n",
    "    \"pcp_visits\",\n",
    "    \"specialty_visits\",\n",
    "    \"pcp_costs\",\n",
    "    \"specialist_costs\"\n",
    "]\n",
    "categorical_features = [\"family\", \"preexisting_conditions\", \"qle\", \"savings\", \"exercises\"]\n",
    "\n",
    "\n",
    "### TODO: Normalise and split data into train, validation, and test sets\n",
    "\n",
    "\n",
    "X_train = []\n",
    "X_val = []\n",
    "X_test = []\n",
    "\n",
    "y_train = []\n",
    "y_val = []\n",
    "y_test = []\n"
   ]
  },
  {
   "cell_type": "markdown",
   "metadata": {},
   "source": [
    "#### 2) Train RandomForest"
   ]
  },
  {
   "cell_type": "code",
   "execution_count": null,
   "metadata": {},
   "outputs": [],
   "source": [
    "from sklearn.metrics import classification_report\n",
    "from sklearn.ensemble import RandomForestClassifier\n",
    "\n",
    "clf = RandomForestClassifier(n_estimators=1000, max_depth=50)\n",
    "model = clf.fit(X_train, y_train)\n",
    "\n",
    "y_train_predict = model.predict(X_train)\n",
    "print(\"Train Metrics: \")\n",
    "print(classification_report(y_train, y_train_predict))\n",
    "\n",
    "y_test_predict = model.predict(X_test)\n",
    "print(\"Test Metrics: \")\n",
    "print(classification_report(y_test, y_test_predict))"
   ]
  },
  {
   "cell_type": "markdown",
   "metadata": {},
   "source": [
    "### Discussion Questions\n",
    "\n",
    "Feature Exploration and Selection\n",
    "\n",
    "1) What techniques do you use to explore and visualize the distribution of features in the dataset?\n",
    "2) How do you decide which features are relevant for the classification task? Can you discuss feature selection methods you're familiar with?\n",
    "\n",
    "Categorical Variables\n",
    "\n",
    "1) How do you handle categorical variables in a tabular dataset? Are there specific encoding techniques you prefer for classification models?\n",
    "2) Can you explain the concept of target encoding, and when might it be useful in a classification problem?\n",
    "\n",
    "Dealing with Imbalanced Data\n",
    "\n",
    "1) In the context of imbalanced classes, what strategies do you employ during feature engineering to address potential issues?\n",
    "2) How can feature engineering contribute to mitigating the impact of class imbalance in a classification model?\n",
    "\n",
    "Feature Scaling\n",
    "\n",
    "1) Do you consider feature scaling in your feature engineering process? When is it necessary, and how does it impact different machine learning algorithms?\n",
    "2) Can you explain the difference between normalization and standardization, and when might you choose one over the other?\n",
    "\n",
    "Feature Transformation\n",
    "\n",
    "1) How do you approach feature transformation, such as creating interaction terms or polynomial features, and when might these techniques be beneficial?\n",
    "2) Can you discuss the use of log-transformations or Box-Cox transformations for certain types of features?"
   ]
  }
 ],
 "metadata": {
  "kernelspec": {
   "display_name": "Python 3",
   "language": "python",
   "name": "python3"
  },
  "language_info": {
   "codemirror_mode": {
    "name": "ipython",
    "version": 3
   },
   "file_extension": ".py",
   "mimetype": "text/x-python",
   "name": "python",
   "nbconvert_exporter": "python",
   "pygments_lexer": "ipython3",
   "version": "3.8.12"
  }
 },
 "nbformat": 4,
 "nbformat_minor": 2
}
