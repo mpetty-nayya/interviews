{
 "cells": [
  {
   "cell_type": "markdown",
   "metadata": {},
   "source": [
    "## Feature Engineering\n",
    "\n",
    "\n",
    "In this assignment, we'll evaluate how you think about preprocessing data for a tabular classification problem. The idea is to wrangle and normalise the dataset below, so that we can train and evaluate our model. Here is a description of the fields:\n",
    "\n",
    "- **family**: who is covered? (Just Me, Me and my Spouse', Me and my kids, Me, Spouse, and Kids)\n",
    "- **financial_risk_preference**: (1) Prefer Savings to Prefer Protection (5) \n",
    "- **exercises**: frequency of exercise (I exercise everyday, I exercise 3x a week, I don't exercise)\n",
    "- **preexisting_conditions**: conditions that require frequent doctor visits (cancer, high blood pressure, etc)\n",
    "- **qle**: qualifying life event that might incur costs (baby, medical procedure, married, moving)\n",
    "- **savings**: if they had to pay $3000, how would they pay for this? (borrow money, have savings, HSA)\n",
    "- **prescription_costs**: costs of annual prescription \n",
    "- **pcp_costs**: costs of primary care costs\n",
    "- **specialist_costs**: annual cost of speciality care costs\n",
    "\n",
    "\n",
    "The output should have this dataset split into **X_train**, **X_test**, **y_train**, **y_test** that will be inputted into RandomForestClassifier. "
   ]
  },
  {
   "cell_type": "code",
   "execution_count": 1,
   "metadata": {},
   "outputs": [
    {
     "data": {
      "text/html": [
       "<div>\n",
       "<style scoped>\n",
       "    .dataframe tbody tr th:only-of-type {\n",
       "        vertical-align: middle;\n",
       "    }\n",
       "\n",
       "    .dataframe tbody tr th {\n",
       "        vertical-align: top;\n",
       "    }\n",
       "\n",
       "    .dataframe thead th {\n",
       "        text-align: right;\n",
       "    }\n",
       "</style>\n",
       "<table border=\"1\" class=\"dataframe\">\n",
       "  <thead>\n",
       "    <tr style=\"text-align: right;\">\n",
       "      <th></th>\n",
       "      <th>idx</th>\n",
       "      <th>age</th>\n",
       "      <th>family</th>\n",
       "      <th>salary</th>\n",
       "      <th>household_salaries</th>\n",
       "      <th>financial_risk_preference</th>\n",
       "      <th>preexisting_conditions</th>\n",
       "      <th>prescription_costs</th>\n",
       "      <th>pcp_costs</th>\n",
       "      <th>specialist_costs</th>\n",
       "      <th>pcp_visits</th>\n",
       "      <th>qle</th>\n",
       "      <th>specialty_visits</th>\n",
       "      <th>exercises</th>\n",
       "      <th>savings</th>\n",
       "      <th>classification</th>\n",
       "    </tr>\n",
       "  </thead>\n",
       "  <tbody>\n",
       "    <tr>\n",
       "      <th>78</th>\n",
       "      <td>78</td>\n",
       "      <td>38</td>\n",
       "      <td>Me and my Spouse</td>\n",
       "      <td>47295</td>\n",
       "      <td>61483.5</td>\n",
       "      <td>3</td>\n",
       "      <td>none</td>\n",
       "      <td>685</td>\n",
       "      <td>199</td>\n",
       "      <td>2019</td>\n",
       "      <td>2</td>\n",
       "      <td>moving</td>\n",
       "      <td>6</td>\n",
       "      <td>I exercise 3x a week</td>\n",
       "      <td>borrow money</td>\n",
       "      <td>Cigna Choice HDHP</td>\n",
       "    </tr>\n",
       "    <tr>\n",
       "      <th>196</th>\n",
       "      <td>196</td>\n",
       "      <td>26</td>\n",
       "      <td>Me and my Spouse</td>\n",
       "      <td>128538</td>\n",
       "      <td>167099.4</td>\n",
       "      <td>4</td>\n",
       "      <td>high blood pressure</td>\n",
       "      <td>422</td>\n",
       "      <td>0</td>\n",
       "      <td>2124</td>\n",
       "      <td>0</td>\n",
       "      <td>none</td>\n",
       "      <td>7</td>\n",
       "      <td>I exercise everyday</td>\n",
       "      <td>have savings</td>\n",
       "      <td>Cigna Copay Plan PPO</td>\n",
       "    </tr>\n",
       "    <tr>\n",
       "      <th>52</th>\n",
       "      <td>52</td>\n",
       "      <td>43</td>\n",
       "      <td>Just Me</td>\n",
       "      <td>36253</td>\n",
       "      <td>36253.0</td>\n",
       "      <td>4</td>\n",
       "      <td>none</td>\n",
       "      <td>27</td>\n",
       "      <td>310</td>\n",
       "      <td>836</td>\n",
       "      <td>2</td>\n",
       "      <td>baby</td>\n",
       "      <td>2</td>\n",
       "      <td>I don't exercise</td>\n",
       "      <td>have savings</td>\n",
       "      <td>Cigna Copay Plan PPO</td>\n",
       "    </tr>\n",
       "    <tr>\n",
       "      <th>77</th>\n",
       "      <td>77</td>\n",
       "      <td>38</td>\n",
       "      <td>Me, Spouse, and Kids</td>\n",
       "      <td>89751</td>\n",
       "      <td>107701.2</td>\n",
       "      <td>3</td>\n",
       "      <td>none</td>\n",
       "      <td>1092</td>\n",
       "      <td>0</td>\n",
       "      <td>653</td>\n",
       "      <td>0</td>\n",
       "      <td>none</td>\n",
       "      <td>2</td>\n",
       "      <td>I exercise 3x a week</td>\n",
       "      <td>borrow money</td>\n",
       "      <td>Cigna Base HDHP</td>\n",
       "    </tr>\n",
       "    <tr>\n",
       "      <th>67</th>\n",
       "      <td>67</td>\n",
       "      <td>42</td>\n",
       "      <td>Me and my Spouse</td>\n",
       "      <td>89214</td>\n",
       "      <td>133821.0</td>\n",
       "      <td>3</td>\n",
       "      <td>high blood sugar</td>\n",
       "      <td>89</td>\n",
       "      <td>80</td>\n",
       "      <td>1409</td>\n",
       "      <td>1</td>\n",
       "      <td>none</td>\n",
       "      <td>5</td>\n",
       "      <td>I exercise everyday</td>\n",
       "      <td>borrow money</td>\n",
       "      <td>Cigna Copay Plan PPO</td>\n",
       "    </tr>\n",
       "  </tbody>\n",
       "</table>\n",
       "</div>"
      ],
      "text/plain": [
       "     idx  age                family  salary  household_salaries   \n",
       "78    78   38      Me and my Spouse   47295             61483.5  \\\n",
       "196  196   26      Me and my Spouse  128538            167099.4   \n",
       "52    52   43               Just Me   36253             36253.0   \n",
       "77    77   38  Me, Spouse, and Kids   89751            107701.2   \n",
       "67    67   42      Me and my Spouse   89214            133821.0   \n",
       "\n",
       "     financial_risk_preference preexisting_conditions  prescription_costs   \n",
       "78                           3                   none                 685  \\\n",
       "196                          4    high blood pressure                 422   \n",
       "52                           4                   none                  27   \n",
       "77                           3                   none                1092   \n",
       "67                           3       high blood sugar                  89   \n",
       "\n",
       "     pcp_costs  specialist_costs  pcp_visits     qle  specialty_visits   \n",
       "78         199              2019           2  moving                 6  \\\n",
       "196          0              2124           0    none                 7   \n",
       "52         310               836           2    baby                 2   \n",
       "77           0               653           0    none                 2   \n",
       "67          80              1409           1    none                 5   \n",
       "\n",
       "                exercises       savings        classification  \n",
       "78   I exercise 3x a week  borrow money     Cigna Choice HDHP  \n",
       "196   I exercise everyday  have savings  Cigna Copay Plan PPO  \n",
       "52       I don't exercise  have savings  Cigna Copay Plan PPO  \n",
       "77   I exercise 3x a week  borrow money       Cigna Base HDHP  \n",
       "67    I exercise everyday  borrow money  Cigna Copay Plan PPO  "
      ]
     },
     "execution_count": 1,
     "metadata": {},
     "output_type": "execute_result"
    }
   ],
   "source": [
    "import pandas as pd\n",
    "\n",
    "df = pd.read_csv(\"data/surveys.csv\")\n",
    "df.sample(5)"
   ]
  },
  {
   "cell_type": "code",
   "execution_count": 2,
   "metadata": {},
   "outputs": [
    {
     "data": {
      "text/plain": [
       "Index(['idx', 'age', 'family', 'salary', 'household_salaries',\n",
       "       'financial_risk_preference', 'preexisting_conditions',\n",
       "       'prescription_costs', 'pcp_costs', 'specialist_costs', 'pcp_visits',\n",
       "       'qle', 'specialty_visits', 'exercises', 'savings', 'classification'],\n",
       "      dtype='object')"
      ]
     },
     "execution_count": 2,
     "metadata": {},
     "output_type": "execute_result"
    }
   ],
   "source": [
    "df.columns"
   ]
  },
  {
   "cell_type": "code",
   "execution_count": 3,
   "metadata": {},
   "outputs": [],
   "source": [
    "features = [\n",
    "    \"age\",\n",
    "    \"salary\",\n",
    "    \"family\",\n",
    "    \"household_salaries\",\n",
    "    \"savings\",\n",
    "    \"financial_risk_preference\",\n",
    "    \"preexisting_conditions\",\n",
    "    \"qle\",\n",
    "    \"pcp_visits\",\n",
    "    \"specialty_visits\",\n",
    "    \"pcp_costs\",\n",
    "    \"specialist_costs\"\n",
    "]\n",
    "categorical_features = [\"family\", \"preexisting_conditions\", \"qle\", \"savings\", \"exercises\"]"
   ]
  },
  {
   "cell_type": "markdown",
   "metadata": {},
   "source": [
    "#### 1) Separate Numeric and Categorical Features using pandas indexing  (TODO)"
   ]
  },
  {
   "cell_type": "code",
   "execution_count": null,
   "metadata": {},
   "outputs": [],
   "source": [
    "numeric_features = [] #TODO: determine numeric features names\n",
    "numeric_df = df #TODO: filter numeric features from df\n",
    "categorical_df = df #TODO: filter categorical features from df"
   ]
  },
  {
   "cell_type": "markdown",
   "metadata": {},
   "source": [
    "#### 2) Normalise Features using pandas transformations  (TODO)"
   ]
  },
  {
   "cell_type": "code",
   "execution_count": null,
   "metadata": {},
   "outputs": [],
   "source": [
    "numeric_df = numeric_df #TODO: normalise numeric_df \n",
    "categorical_df = categorical_df #TODO: normalise categorical_df\n",
    "\n",
    "X = numeric_df.merge(categorical_df, left_index=True, right_index=True)\n",
    "y = df.classification.values"
   ]
  },
  {
   "cell_type": "markdown",
   "metadata": {},
   "source": [
    "#### 3) Split data into train and test sets (TODO)"
   ]
  },
  {
   "cell_type": "code",
   "execution_count": 4,
   "metadata": {},
   "outputs": [
    {
     "data": {
      "text/plain": [
       "classification\n",
       "Cigna Choice HDHP       130\n",
       "Cigna Copay Plan PPO     80\n",
       "Cigna Base HDHP          61\n",
       "Name: count, dtype: int64"
      ]
     },
     "execution_count": 4,
     "metadata": {},
     "output_type": "execute_result"
    }
   ],
   "source": [
    "df.classification.value_counts()"
   ]
  },
  {
   "cell_type": "code",
   "execution_count": null,
   "metadata": {},
   "outputs": [],
   "source": [
    "from random import shuffle\n",
    "\n",
    "train_split = 0.75\n",
    "\n",
    "X_train = X #TODO: training features\n",
    "X_test = X #TODO: testing features\n",
    "\n",
    "y_train = y #TODO training labels\n",
    "y_test = y #TODO testing labels"
   ]
  },
  {
   "cell_type": "markdown",
   "metadata": {},
   "source": [
    "#### 4) Train RandomForest"
   ]
  },
  {
   "cell_type": "code",
   "execution_count": null,
   "metadata": {},
   "outputs": [],
   "source": [
    "from sklearn.metrics import classification_report\n",
    "from sklearn.ensemble import RandomForestClassifier\n",
    "\n",
    "clf = RandomForestClassifier(n_estimators=10)\n",
    "model = clf.fit(X_train, y_train)\n",
    "\n",
    "y_train_predict = model.predict(X_train)\n",
    "print(\"Train Metrics: \")\n",
    "print(classification_report(y_train, y_train_predict))\n",
    "\n",
    "y_test_predict = model.predict(X_test)\n",
    "print(\"Test Metrics: \")\n",
    "print(classification_report(y_test, y_test_predict))"
   ]
  },
  {
   "cell_type": "markdown",
   "metadata": {},
   "source": [
    "### Discussion Questions\n",
    "\n",
    "Feature Exploration and Selection\n",
    "\n",
    "1) What techniques do you use to explore and visualize the distribution of features in the dataset?\n",
    "2) How do you decide which features are relevant for the classification task? Can you discuss feature selection methods you're familiar with?\n",
    "\n",
    "Categorical Variables\n",
    "\n",
    "1) How do you handle categorical variables in a tabular dataset? Are there specific encoding techniques you prefer for classification models?\n",
    "2) Can you explain the concept of target encoding, and when might it be useful in a classification problem?\n",
    "\n",
    "Dealing with Imbalanced Data\n",
    "\n",
    "1) In the context of imbalanced classes, what strategies do you employ during feature engineering to address potential issues?\n",
    "2) How can feature engineering contribute to mitigating the impact of class imbalance in a classification model?\n",
    "\n",
    "Feature Scaling\n",
    "\n",
    "1) Do you consider feature scaling in your feature engineering process? When is it necessary, and how does it impact different machine learning algorithms?\n",
    "2) Can you explain the difference between normalization and standardization, and when might you choose one over the other?\n",
    "\n",
    "Feature Transformation\n",
    "\n",
    "1) How do you approach feature transformation, such as creating interaction terms or polynomial features, and when might these techniques be beneficial?\n",
    "2) Can you discuss the use of log-transformations or Box-Cox transformations for certain types of features?"
   ]
  }
 ],
 "metadata": {
  "kernelspec": {
   "display_name": "Python 3",
   "language": "python",
   "name": "python3"
  },
  "language_info": {
   "codemirror_mode": {
    "name": "ipython",
    "version": 3
   },
   "file_extension": ".py",
   "mimetype": "text/x-python",
   "name": "python",
   "nbconvert_exporter": "python",
   "pygments_lexer": "ipython3",
   "version": "3.8.12"
  }
 },
 "nbformat": 4,
 "nbformat_minor": 2
}
